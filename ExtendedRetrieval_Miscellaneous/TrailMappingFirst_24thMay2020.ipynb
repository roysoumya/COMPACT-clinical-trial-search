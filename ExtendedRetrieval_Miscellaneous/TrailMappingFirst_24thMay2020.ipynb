{
 "cells": [
  {
   "cell_type": "code",
   "execution_count": 1,
   "metadata": {},
   "outputs": [],
   "source": [
    "import pandas as pd\n",
    "import pickle as pkl\n",
    "from collections import defaultdict\n",
    "from tqdm import tqdm"
   ]
  },
  {
   "cell_type": "code",
   "execution_count": 8,
   "metadata": {},
   "outputs": [
    {
     "name": "stdout",
     "output_type": "stream",
     "text": [
      "Requirement already satisfied: tqdm in d:\\installation\\anaconda3\\lib\\site-packages (4.36.1)\n"
     ]
    }
   ],
   "source": [
    "!pip install tqdm"
   ]
  },
  {
   "cell_type": "code",
   "execution_count": 4,
   "metadata": {},
   "outputs": [
    {
     "name": "stdout",
     "output_type": "stream",
     "text": [
      "(1130131, 3)   ----   (288632, 3)\n"
     ]
    }
   ],
   "source": [
    "pmid_inter_data = pd.read_csv(\"FinalMappedData_20thMay2020.csv\")\n",
    "nct_pmid_map_data = pd.read_csv(\"trial_mapped_pubmed_total_24thMay.csv\")\n",
    "print(pmid_inter_data.shape, \"  ----  \", nct_pmid_map_data.shape)"
   ]
  },
  {
   "cell_type": "code",
   "execution_count": 3,
   "metadata": {},
   "outputs": [
    {
     "name": "stdout",
     "output_type": "stream",
     "text": [
      "Index(['pmid', 'ref_pmid', 'nct_id'], dtype='object')   ----   Index(['nct_id', 'pmid', 'reference_type'], dtype='object')\n"
     ]
    }
   ],
   "source": [
    "print(pmid_inter_data.columns, \"  ----  \", nct_pmid_map_data.columns)"
   ]
  },
  {
   "cell_type": "code",
   "execution_count": 5,
   "metadata": {},
   "outputs": [],
   "source": [
    "unique_ncts = list(set(nct_pmid_map_data['nct_id']))"
   ]
  },
  {
   "cell_type": "code",
   "execution_count": 6,
   "metadata": {},
   "outputs": [
    {
     "name": "stdout",
     "output_type": "stream",
     "text": [
      "68338\n"
     ]
    }
   ],
   "source": [
    "print(len(unique_ncts))"
   ]
  },
  {
   "cell_type": "code",
   "execution_count": 6,
   "metadata": {},
   "outputs": [
    {
     "name": "stderr",
     "output_type": "stream",
     "text": [
      "100%|███████████████████████████████████████████████████████████████████████| 288632/288632 [00:15<00:00, 18462.54it/s]\n"
     ]
    }
   ],
   "source": [
    "# Forming the first hop neighbors of a PubMed id. It consists of one-to-one mapping along with references and result references made by the clinical trial\n",
    "# Currently, we are only storing links and not the relation type\n",
    "first_hop_ncts = defaultdict(list)\n",
    "\n",
    "for row_id in tqdm(range(nct_pmid_map_data.shape[0])):\n",
    "    line = nct_pmid_map_data.iloc[row_id, 0]\n",
    "    line = line.replace('\\r', '')\n",
    "    line = line.replace('\\n', '')\n",
    "    first_hop_ncts[nct_pmid_map_data.iloc[row_id, 1]].append(line)"
   ]
  },
  {
   "cell_type": "code",
   "execution_count": null,
   "metadata": {},
   "outputs": [],
   "source": []
  },
  {
   "cell_type": "code",
   "execution_count": null,
   "metadata": {},
   "outputs": [],
   "source": []
  },
  {
   "cell_type": "code",
   "execution_count": 14,
   "metadata": {},
   "outputs": [
    {
     "data": {
      "text/plain": [
       "0.7920258322015576"
      ]
     },
     "execution_count": 14,
     "metadata": {},
     "output_type": "execute_result"
    }
   ],
   "source": [
    "228604/288632"
   ]
  },
  {
   "cell_type": "code",
   "execution_count": 8,
   "metadata": {},
   "outputs": [
    {
     "name": "stderr",
     "output_type": "stream",
     "text": [
      "100%|███████████████████████████████████████████████████████████████████████| 228604/228604 [00:09<00:00, 24882.39it/s]\n"
     ]
    }
   ],
   "source": [
    "for key in tqdm(first_hop_ncts.keys()):\n",
    "    first_hop_ncts[key] = list(set(first_hop_ncts[key]))"
   ]
  },
  {
   "cell_type": "code",
   "execution_count": 10,
   "metadata": {},
   "outputs": [],
   "source": [
    "# Exporting the defaultdict as a pickle flle\n",
    "pkl.dump(first_hop_ncts, open('FirstHopNctNeighbors_24thMay.p', 'wb'))"
   ]
  },
  {
   "cell_type": "code",
   "execution_count": 11,
   "metadata": {},
   "outputs": [
    {
     "data": {
      "text/html": [
       "<div>\n",
       "<style scoped>\n",
       "    .dataframe tbody tr th:only-of-type {\n",
       "        vertical-align: middle;\n",
       "    }\n",
       "\n",
       "    .dataframe tbody tr th {\n",
       "        vertical-align: top;\n",
       "    }\n",
       "\n",
       "    .dataframe thead th {\n",
       "        text-align: right;\n",
       "    }\n",
       "</style>\n",
       "<table border=\"1\" class=\"dataframe\">\n",
       "  <thead>\n",
       "    <tr style=\"text-align: right;\">\n",
       "      <th></th>\n",
       "      <th>pmid</th>\n",
       "      <th>ref_pmid</th>\n",
       "      <th>nct_id</th>\n",
       "    </tr>\n",
       "  </thead>\n",
       "  <tbody>\n",
       "    <tr>\n",
       "      <td>0</td>\n",
       "      <td>6322</td>\n",
       "      <td>13493614</td>\n",
       "      <td>NCT00117845</td>\n",
       "    </tr>\n",
       "    <tr>\n",
       "      <td>1</td>\n",
       "      <td>6322</td>\n",
       "      <td>4770788</td>\n",
       "      <td>NCT00117845</td>\n",
       "    </tr>\n",
       "    <tr>\n",
       "      <td>2</td>\n",
       "      <td>6322</td>\n",
       "      <td>13387693</td>\n",
       "      <td>NCT00117845</td>\n",
       "    </tr>\n",
       "    <tr>\n",
       "      <td>3</td>\n",
       "      <td>6322</td>\n",
       "      <td>13628564</td>\n",
       "      <td>NCT00117845</td>\n",
       "    </tr>\n",
       "    <tr>\n",
       "      <td>4</td>\n",
       "      <td>6322</td>\n",
       "      <td>14370191</td>\n",
       "      <td>NCT00117845</td>\n",
       "    </tr>\n",
       "  </tbody>\n",
       "</table>\n",
       "</div>"
      ],
      "text/plain": [
       "   pmid  ref_pmid       nct_id\n",
       "0  6322  13493614  NCT00117845\n",
       "1  6322   4770788  NCT00117845\n",
       "2  6322  13387693  NCT00117845\n",
       "3  6322  13628564  NCT00117845\n",
       "4  6322  14370191  NCT00117845"
      ]
     },
     "execution_count": 11,
     "metadata": {},
     "output_type": "execute_result"
    }
   ],
   "source": [
    "# Working on second-hop neighbors\n",
    "pmid_inter_data.head()"
   ]
  },
  {
   "cell_type": "code",
   "execution_count": 12,
   "metadata": {},
   "outputs": [
    {
     "name": "stderr",
     "output_type": "stream",
     "text": [
      "100%|█████████████████████████████████████████████████████████████████████| 1130131/1130131 [00:16<00:00, 68930.00it/s]\n",
      "100%|██████████████████████████████████████████████████████████████████████| 543418/543418 [00:00<00:00, 952948.49it/s]\n"
     ]
    }
   ],
   "source": [
    "second_hop_ncts = defaultdict(list)\n",
    "\n",
    "for row_id in tqdm(range(pmid_inter_data.shape[0])):\n",
    "    line = pmid_inter_data.iloc[row_id, 2]\n",
    "    line = line.replace('\\r', '')\n",
    "    line = line.replace('\\n', '')\n",
    "    second_hop_ncts[pmid_inter_data.iloc[row_id, 1]].append(line)\n",
    "    \n",
    "for key in tqdm(second_hop_ncts.keys()):\n",
    "    second_hop_ncts[key] = list(set(second_hop_ncts[key]))"
   ]
  },
  {
   "cell_type": "code",
   "execution_count": 14,
   "metadata": {},
   "outputs": [],
   "source": [
    "# Exporting the defaultdict as a pickle flle\n",
    "pkl.dump(second_hop_ncts, open('SecondHopNctNeighbors_24thMay.p', 'wb'))"
   ]
  },
  {
   "cell_type": "code",
   "execution_count": null,
   "metadata": {},
   "outputs": [],
   "source": []
  }
 ],
 "metadata": {
  "kernelspec": {
   "display_name": "Python 3",
   "language": "python",
   "name": "python3"
  },
  "language_info": {
   "codemirror_mode": {
    "name": "ipython",
    "version": 3
   },
   "file_extension": ".py",
   "mimetype": "text/x-python",
   "name": "python",
   "nbconvert_exporter": "python",
   "pygments_lexer": "ipython3",
   "version": "3.7.6"
  }
 },
 "nbformat": 4,
 "nbformat_minor": 2
}
