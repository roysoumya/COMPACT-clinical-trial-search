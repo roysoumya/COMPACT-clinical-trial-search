{
 "cells": [
  {
   "cell_type": "code",
   "execution_count": 7,
   "metadata": {},
   "outputs": [],
   "source": [
    "import pandas as pd\n",
    "from os import listdir\n",
    "from os.path import join\n",
    "import pickle as pkl"
   ]
  },
  {
   "cell_type": "code",
   "execution_count": 8,
   "metadata": {},
   "outputs": [],
   "source": [
    "node_cts2_dict = pkl.load(open('sim_search_het_graph_18thJune.pkl', 'rb'))"
   ]
  },
  {
   "cell_type": "code",
   "execution_count": 9,
   "metadata": {},
   "outputs": [],
   "source": [
    "query_name_list = list()\n",
    "nct_id_list = list()"
   ]
  },
  {
   "cell_type": "code",
   "execution_count": 10,
   "metadata": {},
   "outputs": [
    {
     "name": "stdout",
     "output_type": "stream",
     "text": [
      "File name :  already having Celiac Disease_page_rank.csv  ; Initial Retrieved :  19  ; Extra added :  5\n",
      "File name :  antiretroviral therapy first time_pageRank.csv  ; Initial Retrieved :  39  ; Extra added :  30\n",
      "File name :  constipation safe treatments_page_rank.csv  ; Initial Retrieved :  13  ; Extra added :  12\n",
      "File name :  dietary approaches for obesity treatment_page_rank.csv  ; Initial Retrieved :  36  ; Extra added :  30\n",
      "File name :  Dietary Therapy Epilepsies_page_rank.csv  ; Initial Retrieved :  9  ; Extra added :  11\n",
      "File name :  Early Parkinson disease treatment_page_rank.csv  ; Initial Retrieved :  30  ; Extra added :  22\n",
      "File name :  haemorrhage cure_page_rank.csv  ; Initial Retrieved :  95  ; Extra added :  31\n",
      "File name :  HIV infection seronegativity_page_rank.csv  ; Initial Retrieved :  39  ; Extra added :  33\n",
      "File name :  HIV infection Treatment naive_page_rank.csv  ; Initial Retrieved :  12  ; Extra added :  13\n",
      "File name :  Hypercholesterolemia safe treatments_page_rank.csv  ; Initial Retrieved :  17  ; Extra added :  7\n",
      "File name :  hypertension safe treatments_page_rank.csv  ; Initial Retrieved :  45  ; Extra added :  28\n",
      "File name :  low back pain therapy workout_pageRank.csv  ; Initial Retrieved :  23  ; Extra added :  18\n",
      "File name :  malnutrition in young children_page_rank.csv  ; Initial Retrieved :  45  ; Extra added :  26\n",
      "File name :  managing constipation in children_pageRank.csv  ; Initial Retrieved :  72  ; Extra added :  23\n",
      "File name :  Nonvalvular atrial fibrillation_page_rank.csv  ; Initial Retrieved :  193  ; Extra added :  91\n",
      "File name :  out of hospital cardiac arrest_page_rank.csv  ; Initial Retrieved :  53  ; Extra added :  14\n",
      "File name :  Outcomes of cerebrovascular accident_page_rank.csv  ; Initial Retrieved :  311  ; Extra added :  145\n",
      "File name :  postoperative delirium_pageRank.csv  ; Initial Retrieved :  43  ; Extra added :  8\n",
      "File name :  recommended antiplatelet doses for treating Coronary artery disease_page_rank_103.csv  ; Initial Retrieved :  103  ; Extra added :  73\n",
      "File name :  safe treatment for Alzheimer disease_page_rank.csv  ; Initial Retrieved :  16  ; Extra added :  11\n",
      "File name :  safe treatments for asthma_pageRank.csv  ; Initial Retrieved :  57  ; Extra added :  36\n",
      "File name :  serious Rheumatoid arthritis_pageRank.csv  ; Initial Retrieved :  360  ; Extra added :  74\n",
      "File name :  serious sleep apnea_page_rank.csv  ; Initial Retrieved :  67  ; Extra added :  48\n",
      "File name :  Treating Anemia, Iron-Deficiency in CKD patients_page_rank_15.csv  ; Initial Retrieved :  15  ; Extra added :  1\n",
      "File name :  treating people already having hypertension_page_rank.csv  ; Initial Retrieved :  295  ; Extra added :  141\n",
      "Total trials to be further annotated:  931\n"
     ]
    }
   ],
   "source": [
    "input_path = \"C:/Users/roysoumya/Documents/ClinicalTrials_Coding/COCTR_multidimensional_ranking-master/rankedTrialsOnDifferentRelevancyBasedSchemes/2.1_synoymsWithoutIncExcRelevancySorted\"\n",
    "files = listdir(input_path)\n",
    "numberOfTrialsInEachQueryList = []\n",
    "\n",
    "total_exts = 0\n",
    "\n",
    "for file in files:\n",
    "    df = pd.read_csv(join(input_path, file))\n",
    "    #print(file)\n",
    "    numberOfTrialsInEachQueryList.append(df.shape[0])\n",
    "    \n",
    "    # When number of retrieved trials is insufficient\n",
    "    #if df.shape[0] < 21:\n",
    "    \n",
    "    # When implementing the change, we consider only the trials within rank 20 according to relevancy aspect\n",
    "    enlarged_ct_set = list()\n",
    "    exist_ct_set = set(df['nct_id'].tolist())\n",
    "    for row_id in range(df.shape[0]):\n",
    "        key1 = df.iloc[row_id, 0]\n",
    "        if key1 in node_cts2_dict.keys():\n",
    "            enlarged_ct_set.extend(node_cts2_dict[key1])\n",
    "\n",
    "    #print('Exist set : ', exist_ct_set)\n",
    "    #print('Enlarged list : ', enlarged_ct_set)\n",
    "    enlarged_ct_set = set(enlarged_ct_set)\n",
    "    extra_cts = enlarged_ct_set.difference(exist_ct_set)\n",
    "    print('File name : ', file, ' ; Initial Retrieved : ', df.shape[0], ' ; Extra added : ', len(list(extra_cts)))\n",
    "    total_exts = total_exts + len(list(extra_cts))\n",
    "    \n",
    "    for ect in list(extra_cts):\n",
    "        query_name_list.append(file)\n",
    "        nct_id_list.append(ect)\n",
    "        \n",
    "\n",
    "print(\"Total trials to be further annotated: \", total_exts)\n",
    "                \n"
   ]
  },
  {
   "cell_type": "code",
   "execution_count": 11,
   "metadata": {},
   "outputs": [
    {
     "data": {
      "text/plain": [
       "903"
      ]
     },
     "execution_count": 11,
     "metadata": {},
     "output_type": "execute_result"
    }
   ],
   "source": [
    "141+1+48+74+36+11+73+8+145+14+91+23+26+18+7+13+33+31+22+11+30+12+30+5"
   ]
  },
  {
   "cell_type": "code",
   "execution_count": 13,
   "metadata": {},
   "outputs": [],
   "source": [
    "toAnnotate = pd.DataFrame({'query':query_name_list, 'nct_id': nct_id_list})\n",
    "toAnnotate.to_csv('toAnnotateCTs_9thSept.csv', index=False)"
   ]
  },
  {
   "cell_type": "code",
   "execution_count": null,
   "metadata": {},
   "outputs": [],
   "source": []
  }
 ],
 "metadata": {
  "kernelspec": {
   "display_name": "Python 3",
   "language": "python",
   "name": "python3"
  },
  "language_info": {
   "codemirror_mode": {
    "name": "ipython",
    "version": 3
   },
   "file_extension": ".py",
   "mimetype": "text/x-python",
   "name": "python",
   "nbconvert_exporter": "python",
   "pygments_lexer": "ipython3",
   "version": "3.7.4"
  }
 },
 "nbformat": 4,
 "nbformat_minor": 2
}
