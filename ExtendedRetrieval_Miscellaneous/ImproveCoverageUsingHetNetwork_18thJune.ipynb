{
 "cells": [
  {
   "cell_type": "code",
   "execution_count": 17,
   "metadata": {},
   "outputs": [],
   "source": [
    "import pandas as pd\n",
    "from os import listdir\n",
    "from os.path import join\n",
    "import pickle as pkl"
   ]
  },
  {
   "cell_type": "code",
   "execution_count": 18,
   "metadata": {},
   "outputs": [],
   "source": [
    "node_cts2_dict = pkl.load(open('sim_search_het_graph_18thJune.pkl', 'rb'))"
   ]
  },
  {
   "cell_type": "code",
   "execution_count": 26,
   "metadata": {},
   "outputs": [
    {
     "name": "stdout",
     "output_type": "stream",
     "text": [
      "File name :  already having Celiac Disease_page_rank.csv  ; Initial Retrieved :  19  ; Extra added :  5\n",
      "File name :  constipation safe treatments_page_rank.csv  ; Initial Retrieved :  13  ; Extra added :  12\n",
      "File name :  Dietary Therapy Epilepsies_page_rank.csv  ; Initial Retrieved :  9  ; Extra added :  11\n",
      "File name :  HIV infection Treatment naive_page_rank.csv  ; Initial Retrieved :  12  ; Extra added :  13\n",
      "File name :  Hypercholesterolemia safe treatments_page_rank.csv  ; Initial Retrieved :  17  ; Extra added :  7\n",
      "File name :  safe treatment for Alzheimer disease_page_rank.csv  ; Initial Retrieved :  16  ; Extra added :  11\n",
      "File name :  Treating Anemia, Iron-Deficiency in CKD patients_page_rank_15.csv  ; Initial Retrieved :  15  ; Extra added :  1\n"
     ]
    }
   ],
   "source": [
    "input_path = \"C:/Users/roysoumya/Documents/ClinicalTrials_Coding/COCTR_multidimensional_ranking-master/rankedTrialsOnDifferentRelevancyBasedSchemes/2.1_synoymsWithoutIncExcRelevancySorted\"\n",
    "files = listdir(input_path)\n",
    "numberOfTrialsInEachQueryList = []\n",
    "for file in files:\n",
    "    df = pd.read_csv(join(input_path, file))\n",
    "    #print(file)\n",
    "    numberOfTrialsInEachQueryList.append(df.shape[0])\n",
    "    \n",
    "    # When number of retrieved trials is insufficient\n",
    "    if df.shape[0] < 21:\n",
    "        enlarged_ct_set = list()\n",
    "        exist_ct_set = set(df['nct_id'].tolist())\n",
    "        for row_id in range(df.shape[0]):\n",
    "            key1 = df.iloc[row_id, 0]\n",
    "            if key1 in node_cts2_dict.keys():\n",
    "                enlarged_ct_set.extend(node_cts2_dict[key1])\n",
    "        \n",
    "        #print('Exist set : ', exist_ct_set)\n",
    "        #print('Enlarged list : ', enlarged_ct_set)\n",
    "        enlarged_ct_set = set(enlarged_ct_set)\n",
    "        extra_cts = enlarged_ct_set.difference(exist_ct_set)\n",
    "        print('File name : ', file, ' ; Initial Retrieved : ', df.shape[0], ' ; Extra added : ', len(list(extra_cts)))\n",
    "                \n"
   ]
  }
 ],
 "metadata": {
  "kernelspec": {
   "display_name": "Python 3",
   "language": "python",
   "name": "python3"
  },
  "language_info": {
   "codemirror_mode": {
    "name": "ipython",
    "version": 3
   },
   "file_extension": ".py",
   "mimetype": "text/x-python",
   "name": "python",
   "nbconvert_exporter": "python",
   "pygments_lexer": "ipython3",
   "version": "3.7.4"
  }
 },
 "nbformat": 4,
 "nbformat_minor": 2
}
